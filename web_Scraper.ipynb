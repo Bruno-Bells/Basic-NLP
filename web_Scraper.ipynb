{
 "cells": [
  {
   "cell_type": "markdown",
   "metadata": {},
   "source": [
    "# Assignment \n",
    "\n",
    "**Scrape yelp reviews on 5 restaurants in San Francisco and perform the following.**\n",
    "\n",
    "Write regular expressions for the following: \n",
    "1. The set of all alphabetic strings;\n",
    "2. The set of all lower case alphabetic strings ending in a b;\n",
    "\n",
    "Perform Sentiment analysis on the reviews. \n"
   ]
  },
  {
   "cell_type": "code",
   "execution_count": null,
   "metadata": {},
   "outputs": [],
   "source": [
    "from bs4 import BeautifulSoup\n",
    "import requests\n",
    "import pandas as pd \n",
    "from textblob import TextBlob\n",
    "import re"
   ]
  },
  {
   "cell_type": "markdown",
   "metadata": {},
   "source": [
    "# Scrape yelp reviews on 5 restaurants in San Francisco"
   ]
  },
  {
   "cell_type": "code",
   "execution_count": null,
   "metadata": {},
   "outputs": [],
   "source": [
    "        # getting the URLS\n",
    "source1 = requests.get('https://www.yelp.com/biz/illy-caff%C3%A8-san-francisco-23').text # resturant 1\n",
    "source2 = requests.get('https://www.yelp.com/biz/blue-house-caf%C3%A9-san-francisco?osq=Coffee').text  # resturant 2\n",
    "source3 = requests.get('https://www.yelp.com/biz/golden-goat-coffee-san-francisco?osq=Coffee').text  # resturant 3\n",
    "source4 = requests.get('https://www.yelp.com/biz/rise-and-grind-coffee-and-tea-san-francisco?osq=Coffee').text   # resturant 4\n",
    "source5 = requests.get('https://www.yelp.com/biz/home-san-francisco-30?osq=Coffee').text  # resturant 5"
   ]
  },
  {
   "cell_type": "code",
   "execution_count": null,
   "metadata": {},
   "outputs": [],
   "source": [
    "soup1 = BeautifulSoup(source1, 'lxml')\n",
    "soup2 = BeautifulSoup(source2, 'lxml')\n",
    "soup3 = BeautifulSoup(source3, 'lxml')\n",
    "soup4 = BeautifulSoup(source4, 'lxml')\n",
    "soup5 = BeautifulSoup(source5, 'lxml')"
   ]
  },
  {
   "cell_type": "code",
   "execution_count": null,
   "metadata": {},
   "outputs": [],
   "source": [
    "  # search with tags and class\n",
    "soup1 = soup1.find_all(class_=\"lemon--div__373c0__1mboc u-space-b2 border-color--default__373c0__2oFDT\")\n",
    "soup2 = soup2.find_all(class_=\"lemon--div__373c0__1mboc u-space-b2 border-color--default__373c0__2oFDT\")\n",
    "soup3 = soup3.find_all(class_=\"lemon--div__373c0__1mboc u-space-b2 border-color--default__373c0__2oFDT\")\n",
    "soup4 = soup4.find_all(class_=\"lemon--div__373c0__1mboc u-space-b2 border-color--default__373c0__2oFDT\")\n",
    "soup5 = soup5.find_all(class_=\"lemon--div__373c0__1mboc u-space-b2 border-color--default__373c0__2oFDT\")"
   ]
  },
  {
   "cell_type": "code",
   "execution_count": null,
   "metadata": {},
   "outputs": [],
   "source": [
    "review1 = [] # returant 1\n",
    "review2 = [] # returant 2\n",
    "review3 = [] # returant 3\n",
    "review4 = [] # returant 4\n",
    "review5 = [] # returant 5"
   ]
  },
  {
   "cell_type": "code",
   "execution_count": null,
   "metadata": {},
   "outputs": [],
   "source": [
    "  # loop through. resturant 1\n",
    "for ss in soup1:\n",
    "    try:\n",
    "        rr = ss.find_all(class_=\"lemon--span__373c0__3997G\", lang=\"en\")\n",
    "        cc = rr[0].string\n",
    "        if cc:\n",
    "            review1.append(cc)\n",
    "    except IndexError:\n",
    "        pass\n",
    "print(review1)\n",
    "print(len(review1))"
   ]
  },
  {
   "cell_type": "code",
   "execution_count": null,
   "metadata": {},
   "outputs": [],
   "source": [
    "  # loop through. resturant 2\n",
    "for ss in soup2:\n",
    "    try:\n",
    "        #ss = ss.text\n",
    "        rr = ss.find_all(class_=\"lemon--span__373c0__3997G\", lang=\"en\")\n",
    "        cc = rr[0].string\n",
    "        if cc:\n",
    "            review2.append(rr[0].string)\n",
    "    except IndexError:\n",
    "        pass\n",
    "print(review2)\n",
    "print(len(review2))"
   ]
  },
  {
   "cell_type": "code",
   "execution_count": null,
   "metadata": {},
   "outputs": [],
   "source": [
    "  # loop through. resturant 1\n",
    "for ss in soup3:\n",
    "    try:\n",
    "        #ss = ss.text\n",
    "        rr = ss.find_all(class_=\"lemon--span__373c0__3997G\", lang=\"en\")\n",
    "        cc = rr[0].string\n",
    "        if cc:\n",
    "            review3.append(rr[0].string)\n",
    "    except IndexError:\n",
    "        pass\n",
    "print(review3)\n",
    "print(len(review3))"
   ]
  },
  {
   "cell_type": "code",
   "execution_count": null,
   "metadata": {},
   "outputs": [],
   "source": [
    "  # loop through. resturant 1\n",
    "for ss in soup4:\n",
    "    try:\n",
    "        #ss = ss.text\n",
    "        rr = ss.find_all(class_=\"lemon--span__373c0__3997G\", lang=\"en\")\n",
    "        cc = rr[0].string\n",
    "        if cc:\n",
    "            review4.append(rr[0].string)\n",
    "    except IndexError:\n",
    "        pass\n",
    "print(review4)\n",
    "print(len(review4))"
   ]
  },
  {
   "cell_type": "code",
   "execution_count": null,
   "metadata": {},
   "outputs": [],
   "source": [
    "  # loop through. resturant 1\n",
    "for ss in soup5:\n",
    "    try:\n",
    "        #ss = ss.text\n",
    "        rr = ss.find_all(class_=\"lemon--span__373c0__3997G\", lang=\"en\")\n",
    "        cc = rr[0].string\n",
    "        if cc:\n",
    "            review5.append(rr[0].string)\n",
    "    except IndexError:\n",
    "        pass\n",
    "print(len(review5))"
   ]
  },
  {
   "cell_type": "code",
   "execution_count": null,
   "metadata": {},
   "outputs": [],
   "source": [
    "# lets merge the reviews from different resturants\n",
    "a = (review1, review2, review3, review4, review5)\n",
    "all_reviews = sum(a, [])\n",
    "\n",
    "all_reviews"
   ]
  },
  {
   "cell_type": "code",
   "execution_count": null,
   "metadata": {},
   "outputs": [],
   "source": []
  },
  {
   "cell_type": "code",
   "execution_count": null,
   "metadata": {},
   "outputs": [],
   "source": [
    "# lets add them to a data frame(pandas)\n",
    "\n",
    "# for j, k in enumerate(all_reviews):\n",
    "    \n",
    "df = pd.DataFrame({'reviews': all_reviews})\n",
    "df"
   ]
  },
  {
   "cell_type": "markdown",
   "metadata": {},
   "source": [
    "# Sentiment Analysis"
   ]
  },
  {
   "cell_type": "code",
   "execution_count": null,
   "metadata": {},
   "outputs": [],
   "source": [
    "review = df['reviews']"
   ]
  },
  {
   "cell_type": "code",
   "execution_count": null,
   "metadata": {},
   "outputs": [],
   "source": [
    "def reviews_analyzer(review):\n",
    "    rview = []\n",
    "    for i in  review:\n",
    "        r_view = ' '.join(re.sub(\"(@[A-Za-z0-9]+)|([^0-9A-Za-z \\t])|(\\w+:\\/\\/\\S+)\", \" \", i).split())\n",
    "        r_view = TextBlob(r_view)\n",
    "        r_view = r_view.sentiment.polarity\n",
    "        \n",
    "        rview.append(r_view)\n",
    "    return rview"
   ]
  },
  {
   "cell_type": "code",
   "execution_count": null,
   "metadata": {},
   "outputs": [],
   "source": [
    "import pandas as pd \n",
    "\n",
    "\n",
    "list_reviews = []\n",
    "\n",
    "\n",
    "for index, row in df.iterrows():\n",
    "    list_reviews.append(row[0])\n",
    "\n",
    "dataa = {'reviews': list_reviews, 'polarity':reviews_analyzer(review)} \n",
    "  \n",
    "# Creates pandas DataFrame. \n",
    "df = pd.DataFrame(dataa) \n",
    "  \n",
    "# print the data \n",
    "df"
   ]
  },
  {
   "cell_type": "code",
   "execution_count": null,
   "metadata": {},
   "outputs": [],
   "source": [
    "pol = df['polarity']\n",
    "\n",
    "pola = []\n",
    "\n",
    "def analyze(pol):\n",
    "    for i in pol:\n",
    "        if i > 0:\n",
    "            pola.append(1)\n",
    "        \n",
    "        elif i == 0:\n",
    "            pola.append(0)\n",
    "        else:\n",
    "            pola.append(-1)\n",
    "            \n",
    "analyze(pol)\n",
    "pola"
   ]
  },
  {
   "cell_type": "code",
   "execution_count": null,
   "metadata": {},
   "outputs": [],
   "source": [
    "import pandas as pd \n",
    "\n",
    "list_reviews = []\n",
    "\n",
    "\n",
    "for index, row in df.iterrows():\n",
    "    list_reviews.append(row[0])\n",
    "\n",
    "dataa = { 'reviews': list_reviews, 'polarity':reviews_analyzer(review), 'Pos_neu_Neg':pola} \n",
    "  \n",
    "# Creates pandas DataFrame. \n",
    "df = pd.DataFrame(dataa) \n",
    "  \n",
    "# print the data \n",
    "df\n"
   ]
  },
  {
   "cell_type": "code",
   "execution_count": null,
   "metadata": {},
   "outputs": [],
   "source": []
  },
  {
   "cell_type": "code",
   "execution_count": null,
   "metadata": {},
   "outputs": [],
   "source": []
  }
 ],
 "metadata": {
  "kernelspec": {
   "display_name": "Python 3",
   "language": "python",
   "name": "python3"
  },
  "language_info": {
   "codemirror_mode": {
    "name": "ipython",
    "version": 3
   },
   "file_extension": ".py",
   "mimetype": "text/x-python",
   "name": "python",
   "nbconvert_exporter": "python",
   "pygments_lexer": "ipython3",
   "version": "3.7.3"
  }
 },
 "nbformat": 4,
 "nbformat_minor": 2
}
